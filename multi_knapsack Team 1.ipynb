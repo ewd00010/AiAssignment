{
 "cells": [
  {
   "cell_type": "markdown",
   "metadata": {
    "tags": []
   },
   "source": [
    "### University of Stirling\n",
    "#### Computing Science and Mathematics\n",
    "#### CSCU9YE - Artificial Intelligence\n",
    "\n",
    "# Coursework: The Multi-dimensional Knapsack Problem"
   ]
  },
  {
   "cell_type": "markdown",
   "metadata": {
    "tags": []
   },
   "source": [
    "## Aquiring the problem data\n",
    "\n",
    "-  This function reads the data of a given problem instance\n",
    "-  It returns four variables in the the following order, using the variable names as in the mathematical formulation described in the coursework\n",
    "    - *n*: number of items, \n",
    "    - *m*: number of constraints\n",
    "    - *p*: one dimensional numpy array with the profit coefficients fore ach item \n",
    "    - *r*: two dimensional numpy array with the resource coefficients for each item on each constraint/resource\n",
    "    - *b*: one dimensional numpy array with the constraints right-hand size, that is the bounds or capacities \n"
   ]
  },
  {
   "cell_type": "code",
   "execution_count": 17,
   "metadata": {
    "tags": []
   },
   "outputs": [],
   "source": [
    "import numpy as np\n",
    "\n",
    "def read_multi_knapsack(fname):\n",
    "    \"\"\"\n",
    "    Reads the data of a multi-knapsack instance\n",
    "\n",
    "    :param fname: file name with instance data\n",
    "    :return: n, m, p, r and b (as described above)\n",
    "    \"\"\" \n",
    "    profits = []\n",
    "    with open(fname, 'r') as kfile:\n",
    "        lines = kfile.readlines()\n",
    "        \n",
    "    # convert m,n  to integer varaibles   \n",
    "    n, m  = [int(d) for d in lines[0].split()]   # convert string data to integers\n",
    "        \n",
    "    input_line_cnt = 1    # input lines index after first line\n",
    "    p = np.empty(0, dtype=np.int64)\n",
    "    while p.size < n:\n",
    "        d = np.loadtxt(lines[input_line_cnt].split(),\n",
    "                       delimiter=\" \", dtype=np.int64)\n",
    "        p = np.append(p, d)\n",
    "        input_line_cnt += 1\n",
    "\n",
    "    r = np.empty((0, n), dtype=np.int64)\n",
    "    for i in range(m):\n",
    "        lin = np.empty(0, dtype=np.int64)\n",
    "        while lin.size < n:\n",
    "            d = np.loadtxt(lines[input_line_cnt].split(),\n",
    "                           delimiter=\" \", dtype=np.int64)\n",
    "            lin = np.append(lin, d)\n",
    "            input_line_cnt += 1\n",
    "        r = np.vstack((r, lin))\n",
    "\n",
    "    # get the capacities (max of one line space separated integer values)\n",
    "    b = np.loadtxt(lines[input_line_cnt].split(),\n",
    "                     delimiter=\" \", dtype=np.int64)\n",
    "\n",
    "    return  n, m, p, r, b, \n"
   ]
  },
  {
   "cell_type": "code",
   "execution_count": 18,
   "metadata": {},
   "outputs": [
    {
     "name": "stdout",
     "output_type": "stream",
     "text": [
      "Instance Data:\n",
      "n: 28.  m: 2\n",
      "Profits: [ 1898   440 22507   270 14148  3100  4650 30800   615  4975  1160  4225\n",
      "   510 11880   479   440   490   330   110   560 24355  2885 11748  4550\n",
      "   750  3720  1950 10500]\n",
      "Resources: [[ 45   0  85 150  65  95  30   0 170   0  40  25  20   0   0  25   0   0\n",
      "   25   0 165   0  85   0   0   0   0 100]\n",
      " [ 30  20 125   5  80  25  35  73  12  15  15  40   5  10  10  12  10   9\n",
      "    0  20  60  40  50  36  49  40  19 150]]\n",
      "Capacities: [500 500]\n"
     ]
    }
   ],
   "source": [
    "## Reading data from a file\n",
    "\n",
    "data_file_name = \"multi_knap_n28_m2.txt\"        \n",
    "\n",
    "n, m, profits, res, cap = read_multi_knapsack(data_file_name)\n",
    "\n",
    "print(\"Instance Data:\")\n",
    "print(f\"n: {n}.  m: {m}\") # amount of items, amount of knapsacks\n",
    "print(f\"Profits: {profits}\") # index is item, value is profit, space taken found under same index within resource\n",
    "print(f\"Resources: {res}\") # amount of space taken\n",
    "print(f\"Capacities: {cap}\") # limit per knapsack, index identifies knapsack\n"
   ]
  },
  {
   "cell_type": "code",
   "execution_count": 25,
   "metadata": {},
   "outputs": [
    {
     "ename": "KeyboardInterrupt",
     "evalue": "",
     "output_type": "error",
     "traceback": [
      "\u001B[1;31m---------------------------------------------------------------------------\u001B[0m",
      "\u001B[1;31mKeyboardInterrupt\u001B[0m                         Traceback (most recent call last)",
      "Cell \u001B[1;32mIn [25], line 20\u001B[0m\n\u001B[0;32m     16\u001B[0m     \u001B[38;5;28;01mreturn\u001B[39;00m totalProfits, totalRes \u001B[38;5;66;03m# profits = 0 if totalRes > 500\u001B[39;00m\n\u001B[0;32m     19\u001B[0m \u001B[38;5;28;01mfor\u001B[39;00m i \u001B[38;5;129;01min\u001B[39;00m \u001B[38;5;28mrange\u001B[39m(m): \u001B[38;5;66;03m# this is just a check to make sure evaluate works, looks fine \u001B[39;00m\n\u001B[1;32m---> 20\u001B[0m     \u001B[38;5;28mprint\u001B[39m(\u001B[43mevaluate\u001B[49m\u001B[43m(\u001B[49m\u001B[43m[\u001B[49m\u001B[38;5;241;43m1\u001B[39;49m\u001B[43m,\u001B[49m\u001B[43m \u001B[49m\u001B[38;5;241;43m0\u001B[39;49m\u001B[43m,\u001B[49m\u001B[43m \u001B[49m\u001B[38;5;241;43m0\u001B[39;49m\u001B[43m,\u001B[49m\u001B[43m \u001B[49m\u001B[38;5;241;43m0\u001B[39;49m\u001B[43m,\u001B[49m\u001B[43m \u001B[49m\u001B[38;5;241;43m1\u001B[39;49m\u001B[43m,\u001B[49m\u001B[43m \u001B[49m\u001B[38;5;241;43m0\u001B[39;49m\u001B[43m,\u001B[49m\u001B[43m \u001B[49m\u001B[38;5;241;43m1\u001B[39;49m\u001B[43m,\u001B[49m\u001B[43m \u001B[49m\u001B[38;5;241;43m0\u001B[39;49m\u001B[43m,\u001B[49m\u001B[43m \u001B[49m\u001B[38;5;241;43m0\u001B[39;49m\u001B[43m,\u001B[49m\u001B[43m \u001B[49m\u001B[38;5;241;43m0\u001B[39;49m\u001B[43m,\u001B[49m\u001B[43m \u001B[49m\u001B[38;5;241;43m1\u001B[39;49m\u001B[43m,\u001B[49m\u001B[43m \u001B[49m\u001B[38;5;241;43m1\u001B[39;49m\u001B[43m,\u001B[49m\u001B[43m \u001B[49m\u001B[38;5;241;43m1\u001B[39;49m\u001B[43m,\u001B[49m\u001B[43m \u001B[49m\u001B[38;5;241;43m0\u001B[39;49m\u001B[43m,\u001B[49m\u001B[43m \u001B[49m\u001B[38;5;241;43m1\u001B[39;49m\u001B[43m,\u001B[49m\u001B[43m \u001B[49m\u001B[38;5;241;43m0\u001B[39;49m\u001B[43m,\u001B[49m\u001B[43m \u001B[49m\u001B[38;5;241;43m1\u001B[39;49m\u001B[43m,\u001B[49m\u001B[43m \u001B[49m\u001B[38;5;241;43m0\u001B[39;49m\u001B[43m,\u001B[49m\u001B[43m \u001B[49m\u001B[38;5;241;43m1\u001B[39;49m\u001B[43m,\u001B[49m\u001B[43m \u001B[49m\u001B[38;5;241;43m0\u001B[39;49m\u001B[43m,\u001B[49m\u001B[43m \u001B[49m\u001B[38;5;241;43m1\u001B[39;49m\u001B[43m,\u001B[49m\u001B[43m \u001B[49m\u001B[38;5;241;43m0\u001B[39;49m\u001B[43m,\u001B[49m\u001B[43m \u001B[49m\u001B[38;5;241;43m1\u001B[39;49m\u001B[43m,\u001B[49m\u001B[43m \u001B[49m\u001B[38;5;241;43m0\u001B[39;49m\u001B[43m,\u001B[49m\u001B[43m \u001B[49m\u001B[38;5;241;43m1\u001B[39;49m\u001B[43m,\u001B[49m\u001B[43m \u001B[49m\u001B[38;5;241;43m0\u001B[39;49m\u001B[43m,\u001B[49m\u001B[43m \u001B[49m\u001B[38;5;241;43m1\u001B[39;49m\u001B[43m,\u001B[49m\u001B[43m \u001B[49m\u001B[38;5;241;43m0\u001B[39;49m\u001B[43m]\u001B[49m\u001B[43m,\u001B[49m\u001B[43m \u001B[49m\n\u001B[0;32m     21\u001B[0m \u001B[43m                   \u001B[49m\u001B[43mres\u001B[49m\u001B[43m[\u001B[49m\u001B[43mi\u001B[49m\u001B[43m]\u001B[49m\u001B[43m,\u001B[49m\u001B[43m \u001B[49m\u001B[43mcap\u001B[49m\u001B[43m[\u001B[49m\u001B[43mi\u001B[49m\u001B[43m]\u001B[49m\u001B[43m)\u001B[49m)\n",
      "Cell \u001B[1;32mIn [25], line 6\u001B[0m, in \u001B[0;36mevaluate\u001B[1;34m(soln, res, capa)\u001B[0m\n\u001B[0;32m      3\u001B[0m totalProfits \u001B[38;5;241m=\u001B[39m \u001B[38;5;241m0\u001B[39m\n\u001B[0;32m      4\u001B[0m totalRes \u001B[38;5;241m=\u001B[39m \u001B[38;5;241m0\u001B[39m\n\u001B[1;32m----> 6\u001B[0m \u001B[38;5;28;01mfor\u001B[39;00m choice \u001B[38;5;129;01min\u001B[39;00m \u001B[43msoln\u001B[49m: \n\u001B[0;32m      7\u001B[0m     \u001B[38;5;28;01mif\u001B[39;00m choice \u001B[38;5;241m==\u001B[39m \u001B[38;5;241m1\u001B[39m: \u001B[38;5;66;03m# if solution includes this item then add its values to profits and resources\u001B[39;00m\n\u001B[0;32m      8\u001B[0m         totalProfits \u001B[38;5;241m+\u001B[39m\u001B[38;5;241m=\u001B[39m profits[index]\n",
      "Cell \u001B[1;32mIn [25], line 6\u001B[0m, in \u001B[0;36mevaluate\u001B[1;34m(soln, res, capa)\u001B[0m\n\u001B[0;32m      3\u001B[0m totalProfits \u001B[38;5;241m=\u001B[39m \u001B[38;5;241m0\u001B[39m\n\u001B[0;32m      4\u001B[0m totalRes \u001B[38;5;241m=\u001B[39m \u001B[38;5;241m0\u001B[39m\n\u001B[1;32m----> 6\u001B[0m \u001B[38;5;28;01mfor\u001B[39;00m choice \u001B[38;5;129;01min\u001B[39;00m \u001B[43msoln\u001B[49m: \n\u001B[0;32m      7\u001B[0m     \u001B[38;5;28;01mif\u001B[39;00m choice \u001B[38;5;241m==\u001B[39m \u001B[38;5;241m1\u001B[39m: \u001B[38;5;66;03m# if solution includes this item then add its values to profits and resources\u001B[39;00m\n\u001B[0;32m      8\u001B[0m         totalProfits \u001B[38;5;241m+\u001B[39m\u001B[38;5;241m=\u001B[39m profits[index]\n",
      "File \u001B[1;32m_pydevd_bundle\\pydevd_cython_win32_39_64.pyx:1179\u001B[0m, in \u001B[0;36m_pydevd_bundle.pydevd_cython_win32_39_64.SafeCallWrapper.__call__\u001B[1;34m()\u001B[0m\n",
      "File \u001B[1;32m_pydevd_bundle\\pydevd_cython_win32_39_64.pyx:620\u001B[0m, in \u001B[0;36m_pydevd_bundle.pydevd_cython_win32_39_64.PyDBFrame.trace_dispatch\u001B[1;34m()\u001B[0m\n",
      "File \u001B[1;32m_pydevd_bundle\\pydevd_cython_win32_39_64.pyx:929\u001B[0m, in \u001B[0;36m_pydevd_bundle.pydevd_cython_win32_39_64.PyDBFrame.trace_dispatch\u001B[1;34m()\u001B[0m\n",
      "File \u001B[1;32m_pydevd_bundle\\pydevd_cython_win32_39_64.pyx:920\u001B[0m, in \u001B[0;36m_pydevd_bundle.pydevd_cython_win32_39_64.PyDBFrame.trace_dispatch\u001B[1;34m()\u001B[0m\n",
      "File \u001B[1;32m_pydevd_bundle\\pydevd_cython_win32_39_64.pyx:317\u001B[0m, in \u001B[0;36m_pydevd_bundle.pydevd_cython_win32_39_64.PyDBFrame.do_wait_suspend\u001B[1;34m()\u001B[0m\n",
      "File \u001B[1;32mC:\\Program Files\\JetBrains\\DataSpell 2022.2.3\\plugins\\python-ce\\helpers\\pydev\\pydevd.py:1160\u001B[0m, in \u001B[0;36mPyDB.do_wait_suspend\u001B[1;34m(self, thread, frame, event, arg, send_suspend_message, is_unhandled_exception)\u001B[0m\n\u001B[0;32m   1157\u001B[0m         from_this_thread\u001B[38;5;241m.\u001B[39mappend(frame_id)\n\u001B[0;32m   1159\u001B[0m \u001B[38;5;28;01mwith\u001B[39;00m \u001B[38;5;28mself\u001B[39m\u001B[38;5;241m.\u001B[39m_threads_suspended_single_notification\u001B[38;5;241m.\u001B[39mnotify_thread_suspended(thread_id, stop_reason):\n\u001B[1;32m-> 1160\u001B[0m     \u001B[38;5;28;43mself\u001B[39;49m\u001B[38;5;241;43m.\u001B[39;49m\u001B[43m_do_wait_suspend\u001B[49m\u001B[43m(\u001B[49m\u001B[43mthread\u001B[49m\u001B[43m,\u001B[49m\u001B[43m \u001B[49m\u001B[43mframe\u001B[49m\u001B[43m,\u001B[49m\u001B[43m \u001B[49m\u001B[43mevent\u001B[49m\u001B[43m,\u001B[49m\u001B[43m \u001B[49m\u001B[43marg\u001B[49m\u001B[43m,\u001B[49m\u001B[43m \u001B[49m\u001B[43msuspend_type\u001B[49m\u001B[43m,\u001B[49m\u001B[43m \u001B[49m\u001B[43mfrom_this_thread\u001B[49m\u001B[43m)\u001B[49m\n",
      "File \u001B[1;32mC:\\Program Files\\JetBrains\\DataSpell 2022.2.3\\plugins\\python-ce\\helpers\\pydev\\pydevd.py:1175\u001B[0m, in \u001B[0;36mPyDB._do_wait_suspend\u001B[1;34m(self, thread, frame, event, arg, suspend_type, from_this_thread)\u001B[0m\n\u001B[0;32m   1172\u001B[0m             \u001B[38;5;28mself\u001B[39m\u001B[38;5;241m.\u001B[39m_call_mpl_hook()\n\u001B[0;32m   1174\u001B[0m         \u001B[38;5;28mself\u001B[39m\u001B[38;5;241m.\u001B[39mprocess_internal_commands()\n\u001B[1;32m-> 1175\u001B[0m         \u001B[43mtime\u001B[49m\u001B[38;5;241;43m.\u001B[39;49m\u001B[43msleep\u001B[49m\u001B[43m(\u001B[49m\u001B[38;5;241;43m0.01\u001B[39;49m\u001B[43m)\u001B[49m\n\u001B[0;32m   1177\u001B[0m \u001B[38;5;28mself\u001B[39m\u001B[38;5;241m.\u001B[39mcancel_async_evaluation(get_current_thread_id(thread), \u001B[38;5;28mstr\u001B[39m(\u001B[38;5;28mid\u001B[39m(frame)))\n\u001B[0;32m   1179\u001B[0m \u001B[38;5;66;03m# process any stepping instructions\u001B[39;00m\n",
      "\u001B[1;31mKeyboardInterrupt\u001B[0m: "
     ]
    }
   ],
   "source": [
    "def evaluate(soln, res, capa): # res values and cap values from 2d arrays. soln = choosen solution\n",
    "    index = 0\n",
    "    totalProfits = 0\n",
    "    totalRes = 0\n",
    "\n",
    "    for i in soln:\n",
    "        if soln[i] == 1:\n",
    "            totalProfits = profits[1]\n",
    "\n",
    "    for choice in soln: \n",
    "        if choice == 1: # if solution includes this item then add its values to profits and resources\n",
    "            totalProfits += profits[index]\n",
    "            totalRes += res[index]\n",
    "            \n",
    "        index += 1\n",
    "    \n",
    "    if totalRes > capa:\n",
    "        totalProfits = 0\n",
    "    \n",
    "    return totalProfits, totalRes # profits = 0 if totalRes > 500\n",
    "\n",
    "\n",
    "for i in range(m): # this is just a check to make sure evaluate works, looks fine \n",
    "    print(evaluate([1, 0, 0, 0, 1, 0, 1, 0, 0, 0, 1, 1, 1, 0, 1, 0, 1, 0, 1, 0, 1, 0, 1, 0, 1, 0, 1, 0], \n",
    "                   res[i], cap[i]))"
   ]
  },
  {
   "cell_type": "code",
   "execution_count": 20,
   "metadata": {},
   "outputs": [
    {
     "name": "stdout",
     "output_type": "stream",
     "text": [
      "False\n",
      "True\n"
     ]
    }
   ],
   "source": [
    "def validate(totalProfits, totalRes, capa):\n",
    "    valid = False\n",
    "    if totalProfits > 0 and totalRes <= capa:\n",
    "        valid = True\n",
    "    return valid\n",
    "        \n",
    "print(validate(500, 502, cap[0]))\n",
    "print(validate(60000000, 400, cap[0]))"
   ]
  },
  {
   "cell_type": "code",
   "execution_count": 21,
   "metadata": {},
   "outputs": [
    {
     "name": "stdout",
     "output_type": "stream",
     "text": [
      "[1, 1, 0, 1, 1, 1, 0, 0, 1, 0, 1, 0, 1, 1, 1, 0, 0, 1, 0, 0, 0, 1, 1, 1, 0, 1, 0, 0]\n"
     ]
    }
   ],
   "source": [
    "import random as rand\n",
    "\n",
    "def randomSoln(size):\n",
    "    soln = []\n",
    "    \n",
    "    for i in range(size):\n",
    "        randResult = rand.randint(0,10)\n",
    "        if (randResult > 4):\n",
    "            soln.append(1)\n",
    "        else:\n",
    "            soln.append(0)\n",
    "            \n",
    "    return soln\n",
    "\n",
    "print(randomSoln(n))"
   ]
  },
  {
   "cell_type": "code",
   "execution_count": 22,
   "metadata": {},
   "outputs": [],
   "source": [
    "# so far we have: randomSoln - soln generator\n",
    "#                 evaluate - gets the results of a soln\n",
    "#                 validate - checks if the soln is valid"
   ]
  },
  {
   "cell_type": "code",
   "execution_count": 27,
   "metadata": {},
   "outputs": [
    {
     "ename": "KeyboardInterrupt",
     "evalue": "",
     "output_type": "error",
     "traceback": [
      "\u001B[1;31m---------------------------------------------------------------------------\u001B[0m",
      "\u001B[1;31mKeyboardInterrupt\u001B[0m                         Traceback (most recent call last)",
      "Cell \u001B[1;32mIn [27], line 7\u001B[0m\n\u001B[0;32m      3\u001B[0m data_file_name \u001B[38;5;241m=\u001B[39m \u001B[38;5;124m\"\u001B[39m\u001B[38;5;124mmulti_knap_n28_m2.txt\u001B[39m\u001B[38;5;124m\"\u001B[39m\n\u001B[0;32m      5\u001B[0m n, m, profits, res, cap \u001B[38;5;241m=\u001B[39m read_multi_knapsack(data_file_name)\n\u001B[1;32m----> 7\u001B[0m \u001B[38;5;28;01mdef\u001B[39;00m \u001B[38;5;21mneighbour\u001B[39m(sol):\n\u001B[0;32m      8\u001B[0m     selection \u001B[38;5;241m=\u001B[39m random\u001B[38;5;241m.\u001B[39mrandint(\u001B[38;5;241m0\u001B[39m , n \u001B[38;5;241m-\u001B[39m \u001B[38;5;241m1\u001B[39m)\n\u001B[0;32m      9\u001B[0m     \u001B[38;5;28;01mif\u001B[39;00m sol[selection] \u001B[38;5;241m==\u001B[39m \u001B[38;5;241m0\u001B[39m:\n",
      "Cell \u001B[1;32mIn [27], line 7\u001B[0m\n\u001B[0;32m      3\u001B[0m data_file_name \u001B[38;5;241m=\u001B[39m \u001B[38;5;124m\"\u001B[39m\u001B[38;5;124mmulti_knap_n28_m2.txt\u001B[39m\u001B[38;5;124m\"\u001B[39m\n\u001B[0;32m      5\u001B[0m n, m, profits, res, cap \u001B[38;5;241m=\u001B[39m read_multi_knapsack(data_file_name)\n\u001B[1;32m----> 7\u001B[0m \u001B[38;5;28;01mdef\u001B[39;00m \u001B[38;5;21mneighbour\u001B[39m(sol):\n\u001B[0;32m      8\u001B[0m     selection \u001B[38;5;241m=\u001B[39m random\u001B[38;5;241m.\u001B[39mrandint(\u001B[38;5;241m0\u001B[39m , n \u001B[38;5;241m-\u001B[39m \u001B[38;5;241m1\u001B[39m)\n\u001B[0;32m      9\u001B[0m     \u001B[38;5;28;01mif\u001B[39;00m sol[selection] \u001B[38;5;241m==\u001B[39m \u001B[38;5;241m0\u001B[39m:\n",
      "File \u001B[1;32m_pydevd_bundle\\pydevd_cython_win32_39_64.pyx:1179\u001B[0m, in \u001B[0;36m_pydevd_bundle.pydevd_cython_win32_39_64.SafeCallWrapper.__call__\u001B[1;34m()\u001B[0m\n",
      "File \u001B[1;32m_pydevd_bundle\\pydevd_cython_win32_39_64.pyx:620\u001B[0m, in \u001B[0;36m_pydevd_bundle.pydevd_cython_win32_39_64.PyDBFrame.trace_dispatch\u001B[1;34m()\u001B[0m\n",
      "File \u001B[1;32m_pydevd_bundle\\pydevd_cython_win32_39_64.pyx:929\u001B[0m, in \u001B[0;36m_pydevd_bundle.pydevd_cython_win32_39_64.PyDBFrame.trace_dispatch\u001B[1;34m()\u001B[0m\n",
      "File \u001B[1;32m_pydevd_bundle\\pydevd_cython_win32_39_64.pyx:920\u001B[0m, in \u001B[0;36m_pydevd_bundle.pydevd_cython_win32_39_64.PyDBFrame.trace_dispatch\u001B[1;34m()\u001B[0m\n",
      "File \u001B[1;32m_pydevd_bundle\\pydevd_cython_win32_39_64.pyx:317\u001B[0m, in \u001B[0;36m_pydevd_bundle.pydevd_cython_win32_39_64.PyDBFrame.do_wait_suspend\u001B[1;34m()\u001B[0m\n",
      "File \u001B[1;32mC:\\Program Files\\JetBrains\\DataSpell 2022.2.3\\plugins\\python-ce\\helpers\\pydev\\pydevd.py:1160\u001B[0m, in \u001B[0;36mPyDB.do_wait_suspend\u001B[1;34m(self, thread, frame, event, arg, send_suspend_message, is_unhandled_exception)\u001B[0m\n\u001B[0;32m   1157\u001B[0m         from_this_thread\u001B[38;5;241m.\u001B[39mappend(frame_id)\n\u001B[0;32m   1159\u001B[0m \u001B[38;5;28;01mwith\u001B[39;00m \u001B[38;5;28mself\u001B[39m\u001B[38;5;241m.\u001B[39m_threads_suspended_single_notification\u001B[38;5;241m.\u001B[39mnotify_thread_suspended(thread_id, stop_reason):\n\u001B[1;32m-> 1160\u001B[0m     \u001B[38;5;28;43mself\u001B[39;49m\u001B[38;5;241;43m.\u001B[39;49m\u001B[43m_do_wait_suspend\u001B[49m\u001B[43m(\u001B[49m\u001B[43mthread\u001B[49m\u001B[43m,\u001B[49m\u001B[43m \u001B[49m\u001B[43mframe\u001B[49m\u001B[43m,\u001B[49m\u001B[43m \u001B[49m\u001B[43mevent\u001B[49m\u001B[43m,\u001B[49m\u001B[43m \u001B[49m\u001B[43marg\u001B[49m\u001B[43m,\u001B[49m\u001B[43m \u001B[49m\u001B[43msuspend_type\u001B[49m\u001B[43m,\u001B[49m\u001B[43m \u001B[49m\u001B[43mfrom_this_thread\u001B[49m\u001B[43m)\u001B[49m\n",
      "File \u001B[1;32mC:\\Program Files\\JetBrains\\DataSpell 2022.2.3\\plugins\\python-ce\\helpers\\pydev\\pydevd.py:1175\u001B[0m, in \u001B[0;36mPyDB._do_wait_suspend\u001B[1;34m(self, thread, frame, event, arg, suspend_type, from_this_thread)\u001B[0m\n\u001B[0;32m   1172\u001B[0m             \u001B[38;5;28mself\u001B[39m\u001B[38;5;241m.\u001B[39m_call_mpl_hook()\n\u001B[0;32m   1174\u001B[0m         \u001B[38;5;28mself\u001B[39m\u001B[38;5;241m.\u001B[39mprocess_internal_commands()\n\u001B[1;32m-> 1175\u001B[0m         \u001B[43mtime\u001B[49m\u001B[38;5;241;43m.\u001B[39;49m\u001B[43msleep\u001B[49m\u001B[43m(\u001B[49m\u001B[38;5;241;43m0.01\u001B[39;49m\u001B[43m)\u001B[49m\n\u001B[0;32m   1177\u001B[0m \u001B[38;5;28mself\u001B[39m\u001B[38;5;241m.\u001B[39mcancel_async_evaluation(get_current_thread_id(thread), \u001B[38;5;28mstr\u001B[39m(\u001B[38;5;28mid\u001B[39m(frame)))\n\u001B[0;32m   1179\u001B[0m \u001B[38;5;66;03m# process any stepping instructions\u001B[39;00m\n",
      "\u001B[1;31mKeyboardInterrupt\u001B[0m: "
     ]
    }
   ],
   "source": [
    "import random\n",
    "\n",
    "data_file_name = \"multi_knap_n28_m2.txt\"\n",
    "\n",
    "n, m, profits, res, cap = read_multi_knapsack(data_file_name)\n",
    "\n",
    "def neighbour(sol):\n",
    "    selection = random.randint(0 , n - 1)\n",
    "    if sol[selection] == 0:\n",
    "        sol[selection] = 1\n",
    "    else:\n",
    "        sol[selection] = 0\n",
    "\n",
    "    return sol\n",
    "\n",
    "def hillClimbing(tries, size, neighbourChecks, newSolTries): # int int int int \n",
    "    solution = randomSoln(size)\n",
    "    solSaves = []\n",
    "    checksSave = neighbourChecks\n",
    "    solProfits = 0\n",
    "    solRes = 0\n",
    "    bestProfits, bestRes = evaluate(solution, res ,cap)\n",
    "\n",
    "    if validate(bestProfits, bestProfits, cap):\n",
    "        bestSol = solution\n",
    "    \n",
    "    print(f'Original values: \\n{solution} val: {bestProfits} weight: {bestRes} \\n')\n",
    "    \n",
    "    while tries > 0:\n",
    "        solSaves.append(solution)\n",
    "        neighbourChecks = checksSave\n",
    "        while neighbourChecks > 0:\n",
    "            solution = neighbour(solution)\n",
    "            solProfits, solRes = evaluate(solution)\n",
    "\n",
    "            if solProfits > bestProfits:\n",
    "                print(solProfits)\n",
    "                bestProfits = solProfits\n",
    "                bestSol = solution\n",
    "                bestRes = solRes\n",
    "            elif solProfits == bestProfits and solRes < bestRes:\n",
    "                bestProfits = solProfits\n",
    "                bestSol = solution\n",
    "                bestRes = solRes\n",
    "                \n",
    "            #print(f'{solution}  {solProfitsVal}  {solution}  {solRes}') # bug check\n",
    "            neighbourChecks -= 1\n",
    "            \n",
    "        solution = randomSoln(size)\n",
    "        while solution in solSaves and newSolTries != 0:\n",
    "            solution = randomSoln(size)\n",
    "            newSolTries -= 1\n",
    "            \n",
    "        if newSolTries == 0:\n",
    "            break\n",
    "        # print(\"loop\") # bug check\n",
    "        tries -= 1\n",
    "    print(f'New soln tries remaining:{newSolTries} ')\n",
    "    #print(solSaves) # bug check\n",
    "    return bestProfits, bestSol, bestRes\n",
    "\n",
    "bestProfits, bestSol, bestRes = hillClimbing(1000, 20, 30, 300) # (tries, size, neighbourChecks, attempts to make new soln)\n",
    "\n",
    "print(f'The best soln found was {bestSol}. It has a value of {bestProfits} and a weight of {bestRes}')"
   ]
  },
  {
   "cell_type": "code",
   "execution_count": null,
   "metadata": {},
   "outputs": [],
   "source": []
  }
 ],
 "metadata": {
  "kernelspec": {
   "display_name": "Python 3 (ipykernel)",
   "language": "python",
   "name": "python3"
  },
  "language_info": {
   "codemirror_mode": {
    "name": "ipython",
    "version": 3
   },
   "file_extension": ".py",
   "mimetype": "text/x-python",
   "name": "python",
   "nbconvert_exporter": "python",
   "pygments_lexer": "ipython3",
   "version": "3.9.12"
  },
  "vscode": {
   "interpreter": {
    "hash": "cd844c78e6ad96aaf4713ea15b69e294556c54f38bf0be6fc264fe75595d01ff"
   }
  }
 },
 "nbformat": 4,
 "nbformat_minor": 4
}
