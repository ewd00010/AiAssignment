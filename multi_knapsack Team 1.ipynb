{
 "cells": [
  {
   "cell_type": "markdown",
   "metadata": {
    "tags": []
   },
   "source": [
    "### University of Stirling\n",
    "#### Computing Science and Mathematics\n",
    "#### CSCU9YE - Artificial Intelligence\n",
    "\n",
    "# Coursework: The Multi-dimensional Knapsack Problem"
   ]
  },
  {
   "cell_type": "markdown",
   "metadata": {
    "tags": []
   },
   "source": [
    "## Aquiring the problem data\n",
    "\n",
    "-  This function reads the data of a given problem instance\n",
    "-  It returns four variables in the the following order, using the variable names as in the mathematical formulation described in the coursework\n",
    "    - *n*: number of items, \n",
    "    - *m*: number of constraints\n",
    "    - *p*: one dimensional numpy array with the profit coefficients fore ach item \n",
    "    - *r*: two dimensional numpy array with the resource coefficients for each item on each constraint/resource\n",
    "    - *b*: one dimensional numpy array with the constraints right-hand size, that is the bounds or capacities \n"
   ]
  },
  {
   "cell_type": "code",
   "execution_count": 70,
   "metadata": {
    "tags": []
   },
   "outputs": [],
   "source": [
    "import numpy as np\n",
    "\n",
    "def read_multi_knapsack(fname):\n",
    "    \"\"\"\n",
    "    Reads the data of a multi-knapsack instance\n",
    "\n",
    "    :param fname: file name with instance data\n",
    "    :return: n, m, p, r and b (as described above)\n",
    "    \"\"\" \n",
    "    profits = []\n",
    "    with open(fname, 'r') as kfile:\n",
    "        lines = kfile.readlines()\n",
    "        \n",
    "    # convert m,n  to integer varaibles   \n",
    "    n, m  = [int(d) for d in lines[0].split()]   # convert string data to integers\n",
    "        \n",
    "    input_line_cnt = 1    # input lines index after first line\n",
    "    p = np.empty(0, dtype=np.int64)\n",
    "    while p.size < n:\n",
    "        d = np.loadtxt(lines[input_line_cnt].split(),\n",
    "                       delimiter=\" \", dtype=np.int64)\n",
    "        p = np.append(p, d)\n",
    "        input_line_cnt += 1\n",
    "\n",
    "    r = np.empty((0, n), dtype=np.int64)\n",
    "    for i in range(m):\n",
    "        lin = np.empty(0, dtype=np.int64)\n",
    "        while lin.size < n:\n",
    "            d = np.loadtxt(lines[input_line_cnt].split(),\n",
    "                           delimiter=\" \", dtype=np.int64)\n",
    "            lin = np.append(lin, d)\n",
    "            input_line_cnt += 1\n",
    "        r = np.vstack((r, lin))\n",
    "\n",
    "    # get the capacities (max of one line space separated integer values)\n",
    "    b = np.loadtxt(lines[input_line_cnt].split(),\n",
    "                     delimiter=\" \", dtype=np.int64)\n",
    "\n",
    "    return  n, m, p, r, b, \n"
   ]
  },
  {
   "cell_type": "code",
   "execution_count": 71,
   "metadata": {},
   "outputs": [
    {
     "name": "stdout",
     "output_type": "stream",
     "text": [
      "Instance Data:\n",
      "n: 28.  m: 2\n",
      "Profits: [ 1898   440 22507   270 14148  3100  4650 30800   615  4975  1160  4225\n",
      "   510 11880   479   440   490   330   110   560 24355  2885 11748  4550\n",
      "   750  3720  1950 10500]\n",
      "Resources: [[ 45   0  85 150  65  95  30   0 170   0  40  25  20   0   0  25   0   0\n",
      "   25   0 165   0  85   0   0   0   0 100]\n",
      " [ 30  20 125   5  80  25  35  73  12  15  15  40   5  10  10  12  10   9\n",
      "    0  20  60  40  50  36  49  40  19 150]]\n",
      "Capacities: [500 500]\n"
     ]
    }
   ],
   "source": [
    "## Reading data from a file\n",
    "\n",
    "data_file_name = \"multi_knap_n28_m2.txt\"        \n",
    "\n",
    "n, m, profits, res, cap = read_multi_knapsack(data_file_name)\n",
    "\n",
    "print(\"Instance Data:\")\n",
    "print(f\"n: {n}.  m: {m}\") # amount of items, amount of knapsacks\n",
    "print(f\"Profits: {profits}\") # index is item, value is profit, space taken found under same index within resource\n",
    "print(f\"Resources: {res}\") # amount of space taken\n",
    "print(f\"Capacities: {cap}\") # limit per knapsack, index identifies knapsack\n"
   ]
  },
  {
   "cell_type": "code",
   "execution_count": 72,
   "metadata": {},
   "outputs": [],
   "source": [
    "def evaluate(soln, res, capa): # res values and cap values from 2d arrays. soln = choosen solution\n",
    "    totalProfits = 0\n",
    "    totalRes = 0\n",
    "    AddedProfits = np.array([0] * n)\n",
    "    AddedRes = np.array([0] * n)\n",
    "\n",
    "    for i in range(0 , m - 1):\n",
    "        for j in soln:\n",
    "            if soln[j] == 1:\n",
    "                totalRes += res[i][j]\n",
    "                totalProfits += profits[j]\n",
    "        if totalRes > capa[i]:\n",
    "            AddedProfits[i] = 0\n",
    "        else:\n",
    "            AddedProfits[i] = totalProfits\n",
    "        totalProfits = 0\n",
    "        AddedRes[i] = totalRes\n",
    "        totalRes = 0\n",
    "    \n",
    "    return totalProfits, totalRes # profits = 0 if totalRes > 500\n",
    "\n",
    "\n",
    "#for i in range(m): # this is just a check to make sure evaluate works, looks fine\n",
    "  #  print(evaluate([1, 0, 0, 0, 1, 0, 1, 0, 0, 0, 1, 1, 1, 0, 1, 0, 1, 0, 1, 0, 1, 0, 1, 0, 1, 0, 1, 0],\n",
    "   #                res[i], cap[i]))"
   ]
  },
  {
   "cell_type": "code",
   "execution_count": 73,
   "metadata": {},
   "outputs": [
    {
     "name": "stdout",
     "output_type": "stream",
     "text": [
      "False\n",
      "True\n"
     ]
    }
   ],
   "source": [
    "def validate(totalProfits, totalRes, capa):\n",
    "    valid = False\n",
    "    if totalProfits > 0 and totalRes <= capa:\n",
    "        valid = True\n",
    "    return valid\n",
    "        \n",
    "print(validate(500, 502, cap[0]))\n",
    "print(validate(60000000, 400, cap[0]))"
   ]
  },
  {
   "cell_type": "code",
   "execution_count": 74,
   "metadata": {},
   "outputs": [
    {
     "name": "stdout",
     "output_type": "stream",
     "text": [
      "[0, 0, 0, 0, 1, 1, 1, 0, 1, 0, 0, 1, 1, 0, 0, 1, 1, 1, 1, 0, 0, 1, 1, 1, 1, 0, 1, 0]\n"
     ]
    }
   ],
   "source": [
    "import random as rand\n",
    "\n",
    "def randomSoln(size):\n",
    "    soln = []\n",
    "    \n",
    "    for i in range(size):\n",
    "        randResult = rand.randint(0,10)\n",
    "        if (randResult > 4):\n",
    "            soln.append(1)\n",
    "        else:\n",
    "            soln.append(0)\n",
    "            \n",
    "    return soln\n",
    "\n",
    "print(randomSoln(n))"
   ]
  },
  {
   "cell_type": "code",
   "execution_count": 75,
   "metadata": {},
   "outputs": [],
   "source": [
    "# so far we have: randomSoln - soln generator\n",
    "#                 evaluate - gets the results of a soln\n",
    "#                 validate - checks if the soln is valid"
   ]
  },
  {
   "cell_type": "code",
   "execution_count": 76,
   "metadata": {},
   "outputs": [
    {
     "name": "stdout",
     "output_type": "stream",
     "text": [
      "Original values: \n",
      "[0, 1, 1, 1, 0, 1, 0, 1, 0, 1, 0, 1, 0, 1, 0, 0, 1, 0, 0, 1, 1, 1, 0, 1, 1, 1, 1, 1] val: 7480 weight: 0 \n",
      "\n",
      "7920\n",
      "22776\n",
      "24674\n",
      "26572\n",
      "28470\n",
      "30368\n",
      "32266\n",
      "34164\n",
      "36062\n",
      "37960\n",
      "38564\n",
      "40022\n",
      "41480\n",
      "42938\n",
      "43654\n",
      "New soln tries remaining:300 \n",
      "The best soln found was [1, 0, 0, 0, 0, 0, 0, 0, 1, 0, 0, 0, 0, 0, 1, 0, 0, 1, 0, 0, 0, 1, 1, 1, 0, 0, 0, 0]. It has a value of 43654 and a weight of 0\n"
     ]
    }
   ],
   "source": [
    "import random\n",
    "\n",
    "data_file_name = \"multi_knap_n28_m2.txt\"\n",
    "\n",
    "n, m, profits, res, cap = read_multi_knapsack(data_file_name)\n",
    "\n",
    "def neighbour(sol):\n",
    "    selection = random.randint(0 , n - 1)\n",
    "    if sol[selection] == 0:\n",
    "        sol[selection] = 1\n",
    "    else:\n",
    "        sol[selection] = 0\n",
    "\n",
    "    return sol\n",
    "\n",
    "def hillClimbing(tries, size, neighbourChecks, newSolTries): # int int int int \n",
    "    solution = randomSoln(size)\n",
    "    solSaves = []\n",
    "    checksSave = neighbourChecks\n",
    "    solProfits = 0\n",
    "    solRes = 0\n",
    "    bestProfits, bestRes = evaluate(solution, res ,cap)\n",
    "\n",
    "    if validate(bestProfits, bestProfits, cap[0]):\n",
    "        bestSol = solution\n",
    "    \n",
    "    print(f'Original values: \\n{solution} val: {bestProfits} weight: {bestRes} \\n')\n",
    "    \n",
    "    while tries > 0:\n",
    "        solSaves.append(solution)\n",
    "        neighbourChecks = checksSave\n",
    "        while neighbourChecks > 0:\n",
    "            solution = neighbour(solution)\n",
    "            solProfits, solRes = evaluate(solution , res , cap)\n",
    "\n",
    "            if solProfits > bestProfits:\n",
    "                print(solProfits)\n",
    "                bestProfits = solProfits\n",
    "                bestSol = solution\n",
    "                bestRes = solRes\n",
    "            elif solProfits == bestProfits and solRes < bestRes:\n",
    "                bestProfits = solProfits\n",
    "                bestSol = solution\n",
    "                bestRes = solRes\n",
    "                \n",
    "            #print(f'{solution}  {solProfitsVal}  {solution}  {solRes}') # bug check\n",
    "            neighbourChecks -= 1\n",
    "            \n",
    "        solution = randomSoln(size)\n",
    "        while solution in solSaves and newSolTries != 0:\n",
    "            solution = randomSoln(size)\n",
    "            newSolTries -= 1\n",
    "            \n",
    "        if newSolTries == 0:\n",
    "            break\n",
    "        # print(\"loop\") # bug check\n",
    "        tries -= 1\n",
    "    print(f'New soln tries remaining:{newSolTries} ')\n",
    "    #print(solSaves) # bug check\n",
    "    return bestProfits, bestSol, bestRes\n",
    "\n",
    "bestProfits, bestSol, bestRes = hillClimbing(1000, n, 30, 300) # (tries, size, neighbourChecks, attempts to make new soln)\n",
    "\n",
    "print(f'The best soln found was {bestSol}. It has a value of {bestProfits} and a weight of {bestRes}')"
   ]
  },
  {
   "cell_type": "code",
   "execution_count": 76,
   "metadata": {},
   "outputs": [],
   "source": []
  }
 ],
 "metadata": {
  "kernelspec": {
   "display_name": "Python 3 (ipykernel)",
   "language": "python",
   "name": "python3"
  },
  "language_info": {
   "codemirror_mode": {
    "name": "ipython",
    "version": 3
   },
   "file_extension": ".py",
   "mimetype": "text/x-python",
   "name": "python",
   "nbconvert_exporter": "python",
   "pygments_lexer": "ipython3",
   "version": "3.9.12"
  },
  "vscode": {
   "interpreter": {
    "hash": "cd844c78e6ad96aaf4713ea15b69e294556c54f38bf0be6fc264fe75595d01ff"
   }
  }
 },
 "nbformat": 4,
 "nbformat_minor": 4
}
